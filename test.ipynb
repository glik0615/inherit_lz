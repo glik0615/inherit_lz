{
 "cells": [
  {
   "cell_type": "code",
   "execution_count": 22,
   "metadata": {},
   "outputs": [
    {
     "name": "stdout",
     "output_type": "stream",
     "text": [
      "['Childhood.txt', 'Idiot.pdf', 'War and Peace (free).fb2', 'Youth.cpub']\n"
     ]
    }
   ],
   "source": [
    "import os\n",
    "\n",
    "title_list = []\n",
    " \n",
    "for root, dirs, files in os.walk('Library'):\n",
    "    for file in files:\n",
    "        title_list.append(file)\n",
    "\n",
    "print(title_list)"
   ]
  },
  {
   "cell_type": "code",
   "execution_count": null,
   "metadata": {},
   "outputs": [],
   "source": [
    "import os\n",
    "title_list = []\n",
    "\n",
    "\n",
    "def tit(title_list):\n",
    "    for root, dirs, files in os.walk('Library'):\n",
    "        for file in files:\n",
    "            title_list.append(file)\n",
    "\n",
    "    cleaned_titles = [title.split('.')[0] for title in title_list]\n",
    "\n",
    "    # вывод результата\n",
    "    print(cleaned_titles)\n"
   ]
  },
  {
   "cell_type": "code",
   "execution_count": null,
   "metadata": {},
   "outputs": [
    {
     "name": "stdout",
     "output_type": "stream",
     "text": [
      "[['Childhood', 'txt'], ['Id', 'iot', 'pdf'], ['War and Peace (free)', 'fb2'], ['Youth', 'cpub']]\n",
      "None\n"
     ]
    }
   ],
   "source": [
    "import os\n",
    "\n",
    "title_list = []\n",
    "new_list = []\n",
    "\n",
    "def tit(title_list):\n",
    "\n",
    "    for root, dirs, files in os.walk('Library'):\n",
    "        for file in files:\n",
    "            title_list.append(file)\n",
    "\n",
    "    cleaned_titles = [title.split('.') for title in title_list]\n",
    "\n",
    "    for i in len(cleaned_titles):\n",
    "        cleaned = cleaned_titles[i]\n",
    "        cleaned.remove(-1)\n",
    "        new_list.append(cleaned)\n",
    "\n",
    "\n",
    "\n",
    "    # вывод результата\n",
    "    print(cleaned_titles)\n",
    "    print(new_list)\n",
    "# Вызов функции\n",
    "print(tit(title_list))"
   ]
  },
  {
   "cell_type": "code",
   "execution_count": 18,
   "metadata": {},
   "outputs": [
    {
     "name": "stdout",
     "output_type": "stream",
     "text": [
      "['Childhood', 'War and Peace', 'AnotherFile', 'Example']\n"
     ]
    }
   ],
   "source": [
    "title_list = [\"Childhood.txt\", \"War and Peace.cpub\", \"AnotherFile.doc\", \"Example.pdf\"]\n",
    "\n",
    "# создание нового списка с удалённой частью после точки\n",
    "cleaned_titles = [title.split('.')[0] for title in title_list]\n",
    "\n",
    "# вывод результата\n",
    "print(cleaned_titles)"
   ]
  }
 ],
 "metadata": {
  "kernelspec": {
   "display_name": "Python 3",
   "language": "python",
   "name": "python3"
  },
  "language_info": {
   "codemirror_mode": {
    "name": "ipython",
    "version": 3
   },
   "file_extension": ".py",
   "mimetype": "text/x-python",
   "name": "python",
   "nbconvert_exporter": "python",
   "pygments_lexer": "ipython3",
   "version": "3.12.3"
  }
 },
 "nbformat": 4,
 "nbformat_minor": 2
}

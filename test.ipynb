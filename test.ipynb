{
 "cells": [
  {
   "cell_type": "code",
   "execution_count": 22,
   "metadata": {},
   "outputs": [
    {
     "name": "stdout",
     "output_type": "stream",
     "text": [
      "['Childhood.txt', 'Idiot.pdf', 'War and Peace (free).fb2', 'Youth.cpub']\n"
     ]
    }
   ],
   "source": [
    "import os\n",
    "\n",
    "title_list = []\n",
    " \n",
    "for root, dirs, files in os.walk('Library'):\n",
    "    for file in files:\n",
    "        title_list.append(file)\n",
    "\n",
    "print(title_list)"
   ]
  },
  {
   "cell_type": "code",
   "execution_count": 6,
   "metadata": {},
   "outputs": [],
   "source": [
    "import os\n",
    "title_list = []\n",
    "\n",
    "\n",
    "def tit(title_list):\n",
    "    for root, dirs, files in os.walk('Library'):\n",
    "        for file in files:\n",
    "            title_list.append(file)\n",
    "\n",
    "    cleaned_titles = [title.split('.')[0] for title in title_list]\n",
    "\n",
    "    # вывод результата\n",
    "    print(cleaned_titles)\n"
   ]
  },
  {
   "cell_type": "code",
   "execution_count": null,
   "metadata": {},
   "outputs": [
    {
     "name": "stdout",
     "output_type": "stream",
     "text": [
      "[['Childhood', 'txt'], ['Id', 'iot', 'pdf'], ['War and Peace (free)', 'fb2'], ['Youth', 'cpub'], ['Childhood', 'txt'], ['Id', 'iot', 'pdf'], ['War and Peace (free)', 'fb2'], ['Youth', 'cpub'], ['Childhood', 'txt'], ['Id', 'iot', 'pdf'], ['War and Peace (free)', 'fb2'], ['Youth', 'cpub'], ['Childhood', 'txt'], ['Id', 'iot', 'pdf'], ['War and Peace (free)', 'fb2'], ['Youth', 'cpub'], ['Childhood', 'txt'], ['Id', 'iot', 'pdf'], ['War and Peace (free)', 'fb2'], ['Youth', 'cpub'], ['Childhood', 'txt'], ['Id', 'iot', 'pdf'], ['War and Peace (free)', 'fb2'], ['Youth', 'cpub'], ['Childhood', 'txt'], ['Id', 'iot', 'pdf'], ['War and Peace (free)', 'fb2'], ['Youth', 'cpub'], ['Childhood', 'txt'], ['Id', 'iot', 'pdf'], ['War and Peace (free)', 'fb2'], ['Youth', 'cpub'], ['Childhood', 'txt'], ['Id', 'iot', 'pdf'], ['War and Peace (free)', 'fb2'], ['Youth', 'cpub'], ['Childhood', 'txt'], ['Id', 'iot', 'pdf'], ['War and Peace (free)', 'fb2'], ['Youth', 'cpub'], ['Childhood', 'txt'], ['Id', 'iot', 'pdf'], ['War and Peace (free)', 'fb2'], ['Youth', 'cpub'], ['Childhood', 'txt'], ['Id', 'iot', 'pdf'], ['War and Peace (free)', 'fb2'], ['Youth', 'cpub'], ['Childhood', 'txt'], ['Id', 'iot', 'pdf'], ['War and Peace (free)', 'fb2'], ['Youth', 'cpub'], ['Childhood', 'txt'], ['Id', 'iot', 'pdf'], ['War and Peace (free)', 'fb2'], ['Youth', 'cpub'], ['Childhood', 'txt'], ['Id', 'iot', 'pdf'], ['War and Peace (free)', 'fb2'], ['Youth', 'cpub'], ['Childhood', 'txt'], ['Id', 'iot', 'pdf'], ['War and Peace (free)', 'fb2'], ['Youth', 'cpub'], ['Childhood', 'txt'], ['Id', 'iot', 'pdf'], ['War and Peace (free)', 'fb2'], ['Youth', 'cpub'], ['Childhood', 'txt'], ['Id', 'iot', 'pdf'], ['War and Peace (free)', 'fb2'], ['Youth', 'cpub'], ['Childhood', 'txt'], ['Id', 'iot', 'pdf'], ['War and Peace (free)', 'fb2'], ['Youth', 'cpub'], ['Childhood', 'txt'], ['Id', 'iot', 'pdf'], ['War and Peace (free)', 'fb2'], ['Youth', 'cpub']]\n",
      "[['Childhood'], 'Idiot', ['War and Peace (free)'], ['Youth'], ['Childhood'], 'Idiot', ['War and Peace (free)'], ['Youth'], ['Childhood'], 'Idiot', ['War and Peace (free)'], ['Youth'], ['Childhood'], 'Idiot', ['War and Peace (free)'], ['Youth'], ['Childhood'], 'Idiot', ['War and Peace (free)'], ['Youth'], ['Childhood'], 'Idiot', ['War and Peace (free)'], ['Youth'], ['Childhood'], 'Idiot', ['War and Peace (free)'], ['Youth'], ['Childhood'], 'Idiot', ['War and Peace (free)'], ['Youth'], ['Childhood'], 'Idiot', ['War and Peace (free)'], ['Youth'], ['Childhood'], 'Idiot', ['War and Peace (free)'], ['Youth'], ['Childhood'], 'Idiot', ['War and Peace (free)'], ['Youth'], ['Childhood'], 'Idiot', ['War and Peace (free)'], ['Youth'], ['Childhood'], 'Idiot', ['War and Peace (free)'], ['Youth'], ['Childhood'], 'Idiot', ['War and Peace (free)'], ['Youth'], ['Childhood'], 'Idiot', ['War and Peace (free)'], ['Youth'], ['Childhood'], 'Idiot', ['War and Peace (free)'], ['Youth'], ['Childhood'], 'Idiot', ['War and Peace (free)'], ['Youth'], ['Childhood'], 'Idiot', ['War and Peace (free)'], ['Youth'], ['Childhood'], 'Idiot', ['War and Peace (free)'], ['Youth'], ['Childhood'], 'Idiot', ['War and Peace (free)'], ['Youth']]\n"
     ]
    }
   ],
   "source": [
    "\n",
    "new_list = []\n",
    "# Перенесли названия файлов в список (Почему append не выводится, а дальше сплит)\n",
    "#=================================================================================\n",
    "for root, dirs, files in os.walk('Library'):\n",
    "    \n",
    "    for file in files:\n",
    "                title_list.append(file)\n",
    "\n",
    "\n",
    "# Разделили элементы списка при (до точки - после точки), одновременно\n",
    "#  создали новый список cleaned_titles с новыми значениями\n",
    "cleaned_titles = [title.split('.') for title in title_list]\n",
    "print(cleaned_titles)\n",
    "        #Создали цикл, который удалит расширение (Не хочет выводить в блокноте изменения)\n",
    "        #===================================================================================\n",
    "for i in range (0,len(cleaned_titles)):\n",
    "    cleaned = cleaned_titles[i] # cleaned_titles[i] = cleaned_titles[i][0]\n",
    "    del cleaned[-1] # Расширение (система спискок внутри списка)\n",
    "    if len(cleaned) > 1:\n",
    "        unification = ''.join(cleaned)\n",
    "        new_list.append(unification)\n",
    "    else:\n",
    "        new_list.append(cleaned)\n",
    "print(new_list)"
   ]
  },
  {
   "cell_type": "code",
   "execution_count": 31,
   "metadata": {},
   "outputs": [
    {
     "name": "stdout",
     "output_type": "stream",
     "text": [
      "['Childhood', 'Id', 'War and Peace (free)', 'Youth']\n"
     ]
    }
   ],
   "source": [
    "title_list = [\"Childhood.txt\", \"War and Peace.epub\", \"AnotherFile.doc\", \"Example.pdf\"]\n",
    "title_list = files\n",
    "\n",
    "# создание нового списка с удалённой частью после точки\n",
    "cleaned_titles = [title.split('.')[0] for title in title_list]\n",
    "\n",
    "# вывод результата\n",
    "print(cleaned_titles)"
   ]
  },
  {
   "cell_type": "code",
   "execution_count": 30,
   "metadata": {},
   "outputs": [
    {
     "name": "stdout",
     "output_type": "stream",
     "text": [
      "['Childhood.txt', 'Id.iot.pdf', 'War and Peace (free).fb2', 'Youth.cpub']\n"
     ]
    }
   ],
   "source": [
    "\n",
    "new_list = []\n",
    "# Перенесли названия файлов в список (Почему append не выводится, а дальше сплит)\n",
    "#=================================================================================\n",
    "for root, dirs, files in os.walk('Library'):\n",
    "    \n",
    "    print(files)\n",
    "\n",
    "\n",
    "\n"
   ]
  }
 ],
 "metadata": {
  "kernelspec": {
   "display_name": "Python 3",
   "language": "python",
   "name": "python3"
  },
  "language_info": {
   "codemirror_mode": {
    "name": "ipython",
    "version": 3
   },
   "file_extension": ".py",
   "mimetype": "text/x-python",
   "name": "python",
   "nbconvert_exporter": "python",
   "pygments_lexer": "ipython3",
   "version": "3.12.3"
  }
 },
 "nbformat": 4,
 "nbformat_minor": 2
}
